{
 "cells": [
  {
   "cell_type": "code",
   "execution_count": 1,
   "metadata": {},
   "outputs": [],
   "source": [
    "from typing_extensions import TypedDict\n",
    "class State(TypedDict):\n",
    "    graph_state:str\n"
   ]
  },
  {
   "cell_type": "code",
   "execution_count": 9,
   "metadata": {},
   "outputs": [],
   "source": [
    "def first_node(state):\n",
    "    print(\"My First Node is called\")\n",
    "    return {\"graph_state\":state['graph_state']+\"I am playing\"}\n",
    "\n",
    "def second_node(state):\n",
    "    print(\"My Second Node is called\")\n",
    "    return {\"graph_state\":state['graph_state']+\" Cricket\"}\n",
    "\n",
    "\n",
    "def third_node(state):\n",
    "    print(\"My Third Node is called\")\n",
    "    return {\"graph_state\":state['graph_state']+\" Badminton\"}\n"
   ]
  },
  {
   "cell_type": "code",
   "execution_count": 4,
   "metadata": {},
   "outputs": [],
   "source": [
    "import random\n",
    "from typing import Literal\n",
    "\n",
    "def decide_play(state)->Literal['second_node','third_node']:\n",
    "    graph_state=state['graph_state']\n",
    "\n",
    "    if random.random()<0.5:\n",
    "        return \"second_node\"\n",
    "    \n",
    "    return \"third_node\"\n"
   ]
  },
  {
   "cell_type": "markdown",
   "metadata": {},
   "source": [
    "## Graph "
   ]
  },
  {
   "cell_type": "code",
   "execution_count": 11,
   "metadata": {},
   "outputs": [
    {
     "data": {
      "image/png": "[encoded data removed]",
      "text/plain": [
       "<IPython.core.display.Image object>"
      ]
     },
     "metadata": {},
     "output_type": "display_data"
    }
   ],
   "source": [
    "from IPython.display import Image, display\n",
    "from langgraph.graph import StateGraph, START, END\n",
    "\n",
    "## Build Graph\n",
    "builder=StateGraph(State)\n",
    "\n",
    "builder.add_node(\"first_node\",first_node)\n",
    "builder.add_node(\"second_node\",second_node)\n",
    "builder.add_node(\"third_node\",third_node)\n",
    "\n",
    "## Logic\n",
    "builder.add_edge(START,\"first_node\")\n",
    "builder.add_conditional_edges(\"first_node\",decide_play)\n",
    "builder.add_edge(\"second_node\",END)\n",
    "builder.add_edge(\"third_node\",END)\n",
    "\n",
    "## Add\n",
    "graph=builder.compile()\n",
    "\n",
    "## View\n",
    "display(Image(graph.get_graph().draw_mermaid_png()))\n"
   ]
  },
  {
   "cell_type": "code",
   "execution_count": 14,
   "metadata": {},
   "outputs": [
    {
     "name": "stdout",
     "output_type": "stream",
     "text": [
      "My First Node is called\n",
      "My Second Node is called\n"
     ]
    },
    {
     "data": {
      "text/plain": [
       "{'graph_state': 'Hi,My name is Krish,I am playing Cricket'}"
      ]
     },
     "execution_count": 14,
     "metadata": {},
     "output_type": "execute_result"
    }
   ],
   "source": [
    "graph.invoke({\"graph_state\":\"Hi,My name is Krish,\"})"
   ]
  },
  {
   "cell_type": "markdown",
   "metadata": {},
   "source": [
    "### Basic Chatbot"
   ]
  },
  {
   "cell_type": "code",
   "execution_count": 1,
   "metadata": {},
   "outputs": [],
   "source": [
    "from typing import Annotated\n",
    "\n",
    "from typing_extensions import TypedDict\n",
    "\n",
    "from langgraph.graph import StateGraph, START, END\n",
    "from langgraph.graph.message import add_messages"
   ]
  },
  {
   "cell_type": "code",
   "execution_count": 2,
   "metadata": {},
   "outputs": [],
   "source": [
    "class State(TypedDict):\n",
    "    messages:Annotated[list,add_messages]\n"
   ]
  },
  {
   "cell_type": "code",
   "execution_count": 3,
   "metadata": {},
   "outputs": [],
   "source": [
    "graph_builder=StateGraph(State)"
   ]
  },
  {
   "cell_type": "code",
   "execution_count": 4,
   "metadata": {},
   "outputs": [],
   "source": [
    "import os\n",
    "from dotenv import load_dotenv\n",
    "\n",
    "load_dotenv()\n",
    "os.environ[\"GROQ_API_KEY\"]=os.getenv(\"GROQ_API_KEY\")"
   ]
  },
  {
   "cell_type": "code",
   "execution_count": 5,
   "metadata": {},
   "outputs": [
    {
     "data": {
      "text/plain": [
       "ChatGroq(client=<groq.resources.chat.completions.Completions object at 0x00000236EB3E59D0>, async_client=<groq.resources.chat.completions.AsyncCompletions object at 0x00000236EB37C6B0>, model_name='gemma2-9b-it', model_kwargs={}, groq_api_key=SecretStr('**********'))"
      ]
     },
     "execution_count": 5,
     "metadata": {},
     "output_type": "execute_result"
    }
   ],
   "source": [
    "from langchain_groq import ChatGroq\n",
    "llm=ChatGroq(model=\"gemma2-9b-it\")\n",
    "llm"
   ]
  },
  {
   "cell_type": "code",
   "execution_count": 6,
   "metadata": {},
   "outputs": [],
   "source": [
    "def chatbot(state:State):\n",
    "    return {\"messages\":[llm.invoke(state[\"messages\"])]}"
   ]
  },
  {
   "cell_type": "code",
   "execution_count": 7,
   "metadata": {},
   "outputs": [],
   "source": [
    "graph_builder.add_node(\"chatbot\",chatbot)\n",
    "graph_builder.add_edge(START, \"chatbot\")\n",
    "graph_builder.add_edge(\"chatbot\", END)\n",
    "graph = graph_builder.compile()\n"
   ]
  },
  {
   "cell_type": "code",
   "execution_count": 8,
   "metadata": {},
   "outputs": [
    {
     "data": {
      "image/png": "[encoded data removed]",
      "text/plain": [
       "<IPython.core.display.Image object>"
      ]
     },
     "metadata": {},
     "output_type": "display_data"
    }
   ],
   "source": [
    "from IPython.display import Image, display\n",
    "display(Image(graph.get_graph().draw_mermaid_png()))"
   ]
  },
  {
   "cell_type": "code",
   "execution_count": 23,
   "metadata": {},
   "outputs": [],
   "source": [
    "def stream_graph_updates(user_input: str):\n",
    "    for event in graph.stream({\"messages\": [{\"role\": \"user\", \"content\": user_input}]}):\n",
    "        for value in event.values():\n",
    "            print(\"Assistant:\", value[\"messages\"][-1].content)"
   ]
  },
  {
   "cell_type": "code",
   "execution_count": 25,
   "metadata": {},
   "outputs": [
    {
     "name": "stdout",
     "output_type": "stream",
     "text": [
      "Assistant: Hi! 👋 \n",
      "\n",
      "How can I help you today? 😊\n",
      "\n",
      "Assistant: Generative AI is a fascinating field of artificial intelligence focused on creating new content. \n",
      "\n",
      "Think of it like this: instead of simply processing and understanding existing data, generative AI learns the underlying patterns and structures within that data and uses that knowledge to generate something entirely new. \n",
      "\n",
      "Here's a breakdown:\n",
      "\n",
      "**What it does:**\n",
      "\n",
      "* **Creates text:** Write stories, poems, articles, dialogue, even code!\n",
      "* **Generates images:** Produce realistic photos, artwork, illustrations, and designs.\n",
      "* **Composes music:**  Craft melodies, harmonies, and entire musical pieces.\n",
      "* **Synthesizes audio:**  Generate realistic speech, sound effects, and voiceovers.\n",
      "* **Builds 3D models:** Design objects and environments in virtual space.\n",
      "\n",
      "**How it works:**\n",
      "\n",
      "Generative AI models are typically trained on massive datasets of existing content. This allows them to learn the statistical relationships between different elements within that data. \n",
      "\n",
      "Popular techniques include:\n",
      "\n",
      "* **Generative Adversarial Networks (GANs):** Two neural networks compete against each other, one generating content and the other evaluating its authenticity. This adversarial process leads to increasingly sophisticated creations.\n",
      "* **Transformer models:**  Excellent at understanding and generating text, these models learn the context and relationships between words in a sentence, allowing for more natural and coherent text generation.\n",
      "\n",
      "**Examples:**\n",
      "\n",
      "* **ChatGPT:** A text-generating AI that can hold conversations, answer questions, and even write different kinds of creative content.\n",
      "* **DALL-E 2:** An AI that creates images from textual descriptions.\n",
      "* **Jukebox:** An AI that generates music in various styles.\n",
      "\n",
      "**Potential applications:**\n",
      "\n",
      "Generative AI has the potential to revolutionize many industries:\n",
      "\n",
      "* **Art and design:** Creating new artwork, designing products, and personalizing experiences.\n",
      "* **Entertainment:**  Generating scripts, composing music, and creating virtual characters.\n",
      "* **Education:** Providing personalized learning experiences and generating educational content.\n",
      "* **Healthcare:**  Assisting in drug discovery, generating medical images, and personalizing treatment plans.\n",
      "\n",
      "**Ethical considerations:**\n",
      "\n",
      "With great power comes great responsibility. \n",
      "\n",
      "Generative AI raises ethical concerns around:\n",
      "\n",
      "* **Misinformation and deepfakes:**  The potential for creating realistic but fake content that can be used for malicious purposes.\n",
      "* **Copyright and intellectual property:**  Who owns the rights to AI-generated content?\n",
      "* **Bias and fairness:**  AI models can inherit and amplify biases present in the data they are trained on.\n",
      "\n",
      "\n",
      "It's a rapidly evolving field with both incredible promise and potential challenges.\n",
      "\n",
      "Goodbye!\n"
     ]
    }
   ],
   "source": [
    "while True:\n",
    "    try:\n",
    "        user_input = input(\"User: \")\n",
    "        if user_input.lower() in [\"quit\", \"exit\", \"q\"]:\n",
    "            print(\"Goodbye!\")\n",
    "            break\n",
    "\n",
    "        stream_graph_updates(user_input)\n",
    "    except:\n",
    "        # fallback if input() is not available\n",
    "        user_input = \"What do you know about LangGraph?\"\n",
    "        print(\"User: \" + user_input)\n",
    "        stream_graph_updates(user_input)\n",
    "        break"
   ]
  },
  {
   "cell_type": "code",
   "execution_count": null,
   "metadata": {},
   "outputs": [],
   "source": []
  }
 ],
 "metadata": {
  "kernelspec": {
   "display_name": ".venv",
   "language": "python",
   "name": "python3"
  },
  "language_info": {
   "codemirror_mode": {
    "name": "ipython",
    "version": 3
   },
   "file_extension": ".py",
   "mimetype": "text/x-python",
   "name": "python",
   "nbconvert_exporter": "python",
   "pygments_lexer": "ipython3",
   "version": "3.12.7"
  }
 },
 "nbformat": 4,
 "nbformat_minor": 2
}
