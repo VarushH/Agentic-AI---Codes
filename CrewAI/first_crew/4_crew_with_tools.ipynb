{
 "cells": [
  {
   "cell_type": "code",
   "execution_count": 1,
   "id": "d6108918",
   "metadata": {},
   "outputs": [],
   "source": [
    "from dotenv import load_dotenv\n",
    "load_dotenv()\n",
    "\n",
    "from crewai import LLM\n",
    "\n",
    "llm = LLM(\n",
    "    model = \"gemini/gemini-2.0-flash\",\n",
    "    temperature=0.1\n",
    ")"
   ]
  },
  {
   "cell_type": "code",
   "execution_count": null,
   "id": "dc239a4d",
   "metadata": {},
   "outputs": [],
   "source": [
    "from crewai import Agent,Task,Crew\n",
    "from crewai_tools import SerperDevTool\n",
    "\n",
    "#Define Agents\n",
    "\n",
    "research_agent = Agent(\n",
    "    role = \"Research Specialist\",\n",
    "    goal = \"Research interesting facts about the topic: {topic}\",\n",
    "    backstory = \"You are an expert at finding relevant and factual data\",\n",
    "    tools = [SerperDevTool()],\n",
    "    verbose = True,\n",
    "    llm = llm\n",
    ")\n",
    "\n",
    "writer_agent = Agent(\n",
    "    role = \"Creative Writer\",\n",
    "    goal = \"Write a short blog summary using the research\",\n",
    "    backstory = \"You are skilled at writing engaging summaries based on provided content\",\n",
    "    llm =llm,\n",
    "    verbose = True\n",
    ")\n",
    "\n",
    "#Define Tasks\n",
    "\n",
    "task1 = Task(\n",
    "    description = \"find 3-5 interesting and recent facts about topic: {topic} as of 2025\",\n",
    "    expected_output = \"A bullet list of 3-5 facts\",\n",
    "    agent = research_agent\n",
    ")\n",
    "\n",
    "task2 = Task(\n",
    "    description = \"Write a 100-word blog post summary about {topic} using the facts from the research\",\n",
    "    expected_output = \"A blog post summary\",\n",
    "    agent = writer_agent,\n",
    "    context = [task1]\n",
    ")\n",
    "\n",
    "#Define Crew\n",
    "\n",
    "crew = Crew(\n",
    "    agents = [research_agent,writer_agent],\n",
    "    tasks = [task1, task2],\n",
    "    verbose = True\n",
    ")\n",
    "\n",
    "#Run the crew\n",
    "\n",
    "result = crew.kickoff(inputs={'topic':'Future of Electric Vehicles'})\n",
    "result\n"
   ]
  },
  {
   "cell_type": "code",
   "execution_count": null,
   "id": "da59e4f5",
   "metadata": {},
   "outputs": [],
   "source": []
  }
 ],
 "metadata": {
  "kernelspec": {
   "display_name": "first-crew",
   "language": "python",
   "name": "python3"
  },
  "language_info": {
   "codemirror_mode": {
    "name": "ipython",
    "version": 3
   },
   "file_extension": ".py",
   "mimetype": "text/x-python",
   "name": "python",
   "nbconvert_exporter": "python",
   "pygments_lexer": "ipython3",
   "version": "3.12.7"
  }
 },
 "nbformat": 4,
 "nbformat_minor": 5
}
