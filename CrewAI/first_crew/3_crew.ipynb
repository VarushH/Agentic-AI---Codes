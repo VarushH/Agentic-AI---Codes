{
 "cells": [
  {
   "cell_type": "code",
   "execution_count": 1,
   "id": "d6108918",
   "metadata": {},
   "outputs": [
    {
     "name": "stderr",
     "output_type": "stream",
     "text": [
      "ERROR:crewai.telemetry.telemetry:HTTPSConnectionPool(host='telemetry.crewai.com', port=4319): Max retries exceeded with url: /v1/traces (Caused by NameResolutionError(\"<urllib3.connection.HTTPSConnection object at 0x000001C5ECCF6360>: Failed to resolve 'telemetry.crewai.com' ([Errno 11001] getaddrinfo failed)\"))\n"
     ]
    }
   ],
   "source": [
    "from dotenv import load_dotenv\n",
    "load_dotenv()\n",
    "\n",
    "from crewai import LLM\n",
    "\n",
    "llm = LLM(\n",
    "    model = \"gemini/gemini-2.0-flash\",\n",
    "    temperature=0.1\n",
    ")"
   ]
  },
  {
   "cell_type": "code",
   "execution_count": 6,
   "id": "dc239a4d",
   "metadata": {},
   "outputs": [
    {
     "data": {
      "text/plain": [
       "CrewOutput(raw='**The Road Ahead: Electric Vehicles Revolutionizing Transportation**\\n\\nThe future of transportation is electric! Global EV sales are projected to surge to 70 million units by 2040, according to BloombergNEF. Battery technology advancements are driving down costs, making EVs more accessible. The U.S. Department of Energy emphasizes that these innovations are crucial for price parity. Charging infrastructure is expanding rapidly, with McKinsey & Company highlighting the necessity of a reliable network for widespread adoption. Automakers are committing to all-electric fleets; General Motors aims for all EVs by 2035, and Volvo by 2030. Government incentives and regulations are accelerating EV adoption, with the IEA noting their critical role in driving sales and achieving climate goals. The electric revolution is here!', pydantic=None, json_dict=None, tasks_output=[TaskOutput(description='find 3-5 interesting and recent facts about topic: Future of Electric Vehicles', name='find 3-5 interesting and recent facts about topic: Future of Electric Vehicles', expected_output='A bullet list of 3-5 facts', summary='find 3-5 interesting and recent facts about topic: Future of...', raw='*   **Global EV Sales are Projected to Surge:** According to a recent report by BloombergNEF, global electric vehicle sales are expected to reach 70 million units by 2040. This represents a significant increase from the approximately 10 million EVs sold in 2022, indicating a strong growth trajectory for the EV market.\\n\\n*   **Battery Technology Advancements are Driving Down Costs:** Innovation in battery technology, such as solid-state batteries and improved lithium-ion chemistries, is expected to further reduce the cost of EVs. The U.S. Department of Energy states that advancements in battery technology are crucial for achieving price parity between EVs and internal combustion engine vehicles, making EVs more accessible to a wider range of consumers.\\n\\n*   **Charging Infrastructure is Expanding Rapidly:** Governments and private companies are investing heavily in expanding EV charging infrastructure. A report by McKinsey & Company highlights that a sufficient and reliable charging network is essential for widespread EV adoption. They predict a significant increase in the number of public charging points over the next decade, including the deployment of ultra-fast chargers to reduce charging times.\\n\\n*   **Automakers are Committing to All-Electric Fleets:** Many major automakers have announced plans to transition to all-electric vehicle lineups in the coming years. For example, General Motors aims to sell only electric vehicles by 2035, and Volvo has committed to becoming an all-electric car company by 2030. These commitments signal a major shift in the automotive industry towards electric mobility.\\n\\n*   **Government Incentives and Regulations are Accelerating EV Adoption:** Governments worldwide are implementing policies to encourage EV adoption, such as tax credits, subsidies, and stricter emission standards for gasoline-powered vehicles. The International Energy Agency (IEA) notes that government support plays a critical role in driving EV sales and achieving climate goals.', pydantic=None, json_dict=None, agent='Research Specialist', output_format=<OutputFormat.RAW: 'raw'>), TaskOutput(description='Write a 100-word blog post summary about Future of Electric Vehicles using the facts from the research', name='Write a 100-word blog post summary about Future of Electric Vehicles using the facts from the research', expected_output='A blog post summary', summary='Write a 100-word blog post summary about Future of Electric...', raw='**The Road Ahead: Electric Vehicles Revolutionizing Transportation**\\n\\nThe future of transportation is electric! Global EV sales are projected to surge to 70 million units by 2040, according to BloombergNEF. Battery technology advancements are driving down costs, making EVs more accessible. The U.S. Department of Energy emphasizes that these innovations are crucial for price parity. Charging infrastructure is expanding rapidly, with McKinsey & Company highlighting the necessity of a reliable network for widespread adoption. Automakers are committing to all-electric fleets; General Motors aims for all EVs by 2035, and Volvo by 2030. Government incentives and regulations are accelerating EV adoption, with the IEA noting their critical role in driving sales and achieving climate goals. The electric revolution is here!', pydantic=None, json_dict=None, agent='Creative Writer', output_format=<OutputFormat.RAW: 'raw'>)], token_usage=UsageMetrics(total_tokens=2742, prompt_tokens=1520, cached_prompt_tokens=0, completion_tokens=1222, successful_requests=4))"
      ]
     },
     "execution_count": 6,
     "metadata": {},
     "output_type": "execute_result"
    }
   ],
   "source": [
    "from crewai import Agent,Task,Crew\n",
    "\n",
    "#Define Agents\n",
    "\n",
    "research_agent = Agent(\n",
    "    role = \"Research Specialist\",\n",
    "    goal = \"Research interesting facts about the topic: {topic}\",\n",
    "    backstory = \"You are an expert at finding relevant and factual data\",\n",
    "    verbose = True,\n",
    "    llm = llm\n",
    ")\n",
    "\n",
    "writer_agent = Agent(\n",
    "    role = \"Creative Writer\",\n",
    "    goal = \"Write a short blog summary using the research\",\n",
    "    backstory = \"You are skilled at writing engaging summaries based on provided content\",\n",
    "    llm =llm,\n",
    "    verbose = True\n",
    ")\n",
    "\n",
    "#Define Tasks\n",
    "\n",
    "task1 = Task(\n",
    "    description = \"find 3-5 interesting and recent facts about topic: {topic}\",\n",
    "    expected_output = \"A bullet list of 3-5 facts\",\n",
    "    agent = research_agent\n",
    ")\n",
    "\n",
    "task2 = Task(\n",
    "    description = \"Write a 100-word blog post summary about {topic} using the facts from the research\",\n",
    "    expected_output = \"A blog post summary\",\n",
    "    agent = writer_agent,\n",
    "    context = [task1]\n",
    ")\n",
    "\n",
    "#Define Crew\n",
    "\n",
    "crew = Crew(\n",
    "    agents = [research_agent,writer_agent],\n",
    "    tasks = [task1, task2],\n",
    "    verbose = True\n",
    ")\n",
    "\n",
    "#Run the crew\n",
    "\n",
    "result = crew.kickoff(inputs={'topic':'Future of Electric Vehicles'})\n",
    "\n",
    "result\n"
   ]
  },
  {
   "cell_type": "code",
   "execution_count": null,
   "id": "da59e4f5",
   "metadata": {},
   "outputs": [],
   "source": []
  }
 ],
 "metadata": {
  "kernelspec": {
   "display_name": "first-crew",
   "language": "python",
   "name": "python3"
  },
  "language_info": {
   "codemirror_mode": {
    "name": "ipython",
    "version": 3
   },
   "file_extension": ".py",
   "mimetype": "text/x-python",
   "name": "python",
   "nbconvert_exporter": "python",
   "pygments_lexer": "ipython3",
   "version": "3.12.7"
  }
 },
 "nbformat": 4,
 "nbformat_minor": 5
}
