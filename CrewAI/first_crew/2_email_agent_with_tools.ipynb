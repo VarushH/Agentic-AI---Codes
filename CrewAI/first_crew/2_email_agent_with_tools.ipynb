{
 "cells": [
  {
   "cell_type": "code",
   "execution_count": 1,
   "id": "914b4596",
   "metadata": {},
   "outputs": [
    {
     "data": {
      "text/plain": [
       "True"
      ]
     },
     "execution_count": 1,
     "metadata": {},
     "output_type": "execute_result"
    }
   ],
   "source": [
    "from dotenv import load_dotenv\n",
    "load_dotenv()"
   ]
  },
  {
   "cell_type": "markdown",
   "id": "5ae52e75",
   "metadata": {},
   "source": [
    "**LLM Initialization**"
   ]
  },
  {
   "cell_type": "code",
   "execution_count": 2,
   "id": "7ab8173a",
   "metadata": {},
   "outputs": [],
   "source": [
    "from crewai import LLM\n",
    "\n",
    "llm = LLM(\n",
    "    model = \"gemini/gemini-2.0-flash\",\n",
    "    temperature=0.1\n",
    ")"
   ]
  },
  {
   "cell_type": "code",
   "execution_count": 5,
   "id": "7fcf8eaa",
   "metadata": {},
   "outputs": [
    {
     "name": "stdout",
     "output_type": "stream",
     "text": [
      "\u001b[96mUsing Tool: Replace Jargons\u001b[0m\n"
     ]
    },
    {
     "data": {
      "text/plain": [
       "\"Consider replacing 'PRX' with 'Project Phoenix (internal AI revamo project)'\\nConsider replacing 'TAS' with 'technical architecture stack'\\nConsider replacing 'SDS' with 'Smart Data Syncer'\\nConsider replacing 'SYNCBOT' with 'internal standard assistant bot'\\nConsider replacing 'ping' with 'reach out'\""
      ]
     },
     "execution_count": 5,
     "metadata": {},
     "output_type": "execute_result"
    }
   ],
   "source": [
    "original_email = \"\"\"\n",
    "looping in Priya. TAS and PRX updates are in the deck. ETA for SDS integration is Friday.\n",
    "Let's sync up tomorrow if SYNCBOT allows. ping me if any blockers.\n",
    "\"\"\"\n",
    "\n",
    "from crewai.tools import BaseTool\n",
    "\n",
    "class ReplaceJargonsTool(BaseTool):\n",
    "    name: str = \"Replace Jargons\"\n",
    "    description : str = \"Replace Jargons with more specific terms\"\n",
    "\n",
    "    def _run(self,email: str) -> str:\n",
    "        replacements = {\n",
    "            \"PRX\": \"Project Phoenix (internal AI revamo project)\",\n",
    "            \"TAS\": \"technical architecture stack\",\n",
    "            \"DBX\": \"client database cluster\",\n",
    "            \"SDS\": \"Smart Data Syncer\",\n",
    "            \"SYNCBOT\": \"internal standard assistant bot\",\n",
    "            \"WIP\": \"in progress\",\n",
    "            \"POC\": \"proof of concept\",\n",
    "            \"ping\": \"reach out\"\n",
    "        }\n",
    "\n",
    "        suggestions = []\n",
    "        email_lower = email.lower()\n",
    "        for jargon,replacemet in replacements.items():\n",
    "            if jargon.lower() in email_lower:\n",
    "                suggestions.append(f\"Consider replacing '{jargon}' with '{replacemet}'\")\n",
    "\n",
    "        return \"\\n\".join(suggestions) if suggestions else \"No jargons or internal abbreviation\"\n",
    "    \n",
    "#Define Tool\n",
    "jt = ReplaceJargonsTool()\n",
    "\n",
    "#To check the working of tool\n",
    "jt.run(original_email)\n",
    "\n"
   ]
  },
  {
   "cell_type": "code",
   "execution_count": 6,
   "id": "c70a77bb",
   "metadata": {},
   "outputs": [
    {
     "name": "stdout",
     "output_type": "stream",
     "text": [
      "Subject: Updates on Technical Architecture Stack, Project Phoenix, and Smart Data Syncer Integration\n",
      "\n",
      "Hi Team,\n",
      "\n",
      "I am including Priya in this email thread.\n",
      "\n",
      "The updates for the technical architecture stack and Project Phoenix (internal AI revamo project) are available in the deck. The estimated time of arrival for the Smart Data Syncer integration is Friday.\n",
      "\n",
      "I propose we synchronize our schedules tomorrow, pending the availability of the internal standard assistant bot. Please reach out to me if you encounter any obstacles.\n",
      "\n",
      "Thank you,\n",
      "\n",
      "[Your Name]\n"
     ]
    }
   ],
   "source": [
    "from crewai import Agent, Task, Crew\n",
    "\n",
    "email_assistant = Agent(\n",
    "    role = \"email_assistant\",\n",
    "    goal = \"Improve emails and make them sound professional and clear\",\n",
    "    backstory = \"A highly experienced communication expert skilled in professional email writing\",\n",
    "    tools = [jt],\n",
    "    verbose = True,\n",
    "    llm = llm\n",
    ")\n",
    "\n",
    "\n",
    "\n",
    "email_task = Task(\n",
    "    description=f\"\"\" Take the following rough email and rewrite it into a professional and polished version.\n",
    "    '''{original_email}'''\n",
    "\"\"\",\n",
    "agent = email_assistant,\n",
    "expected_output=\"A professional written email with proper formatting and content\"\n",
    ")\n",
    "\n",
    "\n",
    "crew = Crew(\n",
    "    agents = [email_assistant],\n",
    "    tasks = [email_task],\n",
    "    verbose=True\n",
    ")\n",
    "\n",
    "#Run the Crew\n",
    "result = crew.kickoff()\n",
    "print(result)"
   ]
  }
 ],
 "metadata": {
  "kernelspec": {
   "display_name": "first-crew",
   "language": "python",
   "name": "python3"
  },
  "language_info": {
   "codemirror_mode": {
    "name": "ipython",
    "version": 3
   },
   "file_extension": ".py",
   "mimetype": "text/x-python",
   "name": "python",
   "nbconvert_exporter": "python",
   "pygments_lexer": "ipython3",
   "version": "3.12.7"
  }
 },
 "nbformat": 4,
 "nbformat_minor": 5
}
